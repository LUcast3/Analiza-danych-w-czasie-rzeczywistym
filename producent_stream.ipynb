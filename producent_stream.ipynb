{
 "cells": [
  {
   "cell_type": "code",
   "execution_count": 6,
   "id": "e9839eba-f0d2-4428-98f7-ff6e77675b22",
   "metadata": {
    "tags": []
   },
   "outputs": [
    {
     "name": "stdout",
     "output_type": "stream",
     "text": [
      "Overwriting stream.py\n"
     ]
    }
   ],
   "source": [
    "%%file stream.py\n",
    "import json\n",
    "import time\n",
    "import glob\n",
    "import os\n",
    "import pandas as pd\n",
    "from kafka import KafkaProducer\n",
    "\n",
    "SERVER = \"localhost:9092\"  \n",
    "TOPIC = \"prices\"       \n",
    "SLEEP_INTERVAL = 0.0001\n",
    "\n",
    "MAX_TIME = 300 \n",
    "def load_data():\n",
    "    files = glob.glob(\"*_minute.csv\")\n",
    "    if not files:\n",
    "        raise FileNotFoundError(\"Nie znaleziono plików *_minute.csv w katalogu.\")\n",
    "    dfs = []\n",
    "    for fn in files:\n",
    "        ticker = os.path.basename(fn).split(\"_minute\")[0]\n",
    "        df_tmp = pd.read_csv(fn, parse_dates=[\"date\"])\n",
    "        df_tmp.rename(columns={\"date\": \"DateTime\"}, inplace=True)\n",
    "        df_tmp[\"Symbol\"] = ticker\n",
    "        dfs.append(df_tmp)\n",
    "    df = pd.concat(dfs, ignore_index=True)\n",
    "    df.sort_values([\"DateTime\"], inplace=True,ascending=True)\n",
    "    df.reset_index(drop=True, inplace=True)\n",
    "    return df\n",
    "\n",
    "if __name__ == \"__main__\":\n",
    "    try:\n",
    "        df = load_data()\n",
    "    except Exception as e:\n",
    "        print(f\"Blad przy wczytywaniu danych: {e}\")\n",
    "        exit(1)\n",
    "        \n",
    "    # Inicjalizacja producenta Kafka\n",
    "    producer = KafkaProducer(\n",
    "        bootstrap_servers=[SERVER],\n",
    "        value_serializer=lambda x: json.dumps(x).encode(\"utf-8\")\n",
    "    )\n",
    "\n",
    "    print(\"📤 Rozpoczynam wysyłanie ticków do topicu 'prices'...\")\n",
    "    start_time = time.time()\n",
    "\n",
    "    try:\n",
    "        for _, row in df.iterrows():\n",
    "            if time.time() - start_time > MAX_TIME:\n",
    "                print(f\"\\n⏱ Osiągnięto limit czasu {MAX_TIME} sekund. Zatrzymywanie producenta...\")\n",
    "                break\n",
    "            \n",
    "            message = {\n",
    "                \"timestamp\": row[\"DateTime\"].isoformat(),\n",
    "                \"open\":      row[\"open\"],\n",
    "                \"high\":      row[\"high\"],\n",
    "                \"low\":       row[\"low\"],\n",
    "                \"close\":     row[\"close\"],\n",
    "                \"volume\":    int(row[\"volume\"]),\n",
    "                \"Symbol\":    row[\"Symbol\"]\n",
    "            }\n",
    "            producer.send(TOPIC, value=message)\n",
    "            time.sleep(SLEEP_INTERVAL)\n",
    "    except KeyboardInterrupt:\n",
    "        print(\"\\n🛑 Zatrzymano producenta.\")\n",
    "    finally:\n",
    "        producer.close()\n",
    "        print(\"Producent zamknięty.\")"
   ]
  }
 ],
 "metadata": {
  "kernelspec": {
   "display_name": "Python 3 (ipykernel)",
   "language": "python",
   "name": "python3"
  },
  "language_info": {
   "codemirror_mode": {
    "name": "ipython",
    "version": 3
   },
   "file_extension": ".py",
   "mimetype": "text/x-python",
   "name": "python",
   "nbconvert_exporter": "python",
   "pygments_lexer": "ipython3",
   "version": "3.11.7"
  }
 },
 "nbformat": 4,
 "nbformat_minor": 5
}
